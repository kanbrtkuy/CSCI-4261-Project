{
 "cells": [
  {
   "cell_type": "code",
   "execution_count": 16,
   "metadata": {},
   "outputs": [
    {
     "name": "stdout",
     "output_type": "stream",
     "text": [
      "[[ 5.46650630e-01  5.75214468e-01 -5.14584520e+01]\n",
      " [-5.82942864e-01  5.32075406e-01  3.87234668e+02]\n",
      " [ 1.55975511e-05  1.30196419e-06  1.00000000e+00]]\n"
     ]
    },
    {
     "data": {
      "image/png": "[encoded data removed]",
      "text/plain": [
       "<Figure size 432x288 with 2 Axes>"
      ]
     },
     "metadata": {
      "needs_background": "light"
     },
     "output_type": "display_data"
    }
   ],
   "source": [
    "# The idea is come from: https://blog.csdn.net/wzhrsh/article/details/106412216\n",
    "#Import the liberaries\n",
    "from __future__ import print_function\n",
    "import cv2\n",
    "import numpy as np\n",
    "import matplotlib.pyplot as plt\n",
    " \n",
    " \n",
    "MAX_FEATURES = 500\n",
    "GOOD_MATCH_PERCENT = 0.15\n",
    " \n",
    " \n",
    "def affine_registration(input, reference):\n",
    " \n",
    "  # Convert images to grayscale\n",
    "  Gray_input = cv2.cvtColor(input, cv2.COLOR_BGR2GRAY)\n",
    "  Gray_reference = cv2.cvtColor(reference, cv2.COLOR_BGR2GRAY)\n",
    " \n",
    "  # Detect ORB features and compute descriptors.\n",
    "  orb = cv2.ORB_create(MAX_FEATURES)\n",
    "  keypoints1, descriptors1 = orb.detectAndCompute(Gray_input, None)\n",
    "  keypoints2, descriptors2 = orb.detectAndCompute(Gray_reference, None)\n",
    " \n",
    "  # Match features.\n",
    "  matcher = cv2.DescriptorMatcher_create(cv2.DESCRIPTOR_MATCHER_BRUTEFORCE_HAMMING)\n",
    "  matches = matcher.match(descriptors1, descriptors2, None)\n",
    " \n",
    "  # Sort matches by score\n",
    "  matches.sort(key=lambda x: x.distance, reverse=False)\n",
    " \n",
    "  # Remove not so good matches\n",
    "  numGoodMatches = int(len(matches) * GOOD_MATCH_PERCENT)\n",
    "  matches = matches[:numGoodMatches]\n",
    " \n",
    "  # Draw top matches\n",
    "  imMatches = cv2.drawMatches(input, keypoints1, reference, keypoints2, matches, None)\n",
    " \n",
    "  # Extract location of good matches\n",
    "  points1 = np.zeros((len(matches), 2), dtype=np.float32)\n",
    "  points2 = np.zeros((len(matches), 2), dtype=np.float32)\n",
    " \n",
    "  for i, match in enumerate(matches):\n",
    "    points1[i, :] = keypoints1[match.queryIdx].pt\n",
    "    points2[i, :] = keypoints2[match.trainIdx].pt\n",
    " \n",
    "  # Find homography\n",
    "  h, mask = cv2.findHomography(points1, points2, cv2.RANSAC)\n",
    " \n",
    "  # Use homography\n",
    "  height, width, channels = im2.shape\n",
    "  im1Reg = cv2.warpPerspective(input, h, (width, height))\n",
    " \n",
    "  return im1Reg, matrix\n",
    " \n",
    " \n",
    "if __name__ == '__main__':\n",
    " \n",
    "    # Read the input image\n",
    "    imFilename = \"img1.jpg\"\n",
    "    input = cv2.imread(imFilename, cv2.IMREAD_COLOR)\n",
    "    \n",
    "    # Read reference image\n",
    "    refFilename = \"img3.jpg\"\n",
    "    reference = cv2.imread(refFilename, cv2.IMREAD_COLOR)\n",
    "\n",
    "\n",
    "    # Registered image will be resotred in imReg.\n",
    "    # The estimated homography will be stored in h.\n",
    "    imReg, matrix = alignImages(input, reference)\n",
    "\n",
    "    # Print the homography matrix\n",
    "    print(matrix)\n",
    "    \n",
    "    # Plot the original image\n",
    "    plt.subplot(2,1,1), plt.imshow(input)\n",
    "    plt.title('Original Image')\n",
    "    \n",
    "    # Plot the aligned image with the translation matrix\n",
    "    aligned_image = imReg\n",
    "    plt.subplot(2,1,2), plt.imshow(aligned_image)\n",
    "    plt.title('Aligned image')"
   ]
  },
  {
   "cell_type": "code",
   "execution_count": null,
   "metadata": {},
   "outputs": [],
   "source": []
  }
 ],
 "metadata": {
  "kernelspec": {
   "display_name": "Python 3",
   "language": "python",
   "name": "python3"
  },
  "language_info": {
   "codemirror_mode": {
    "name": "ipython",
    "version": 3
   },
   "file_extension": ".py",
   "mimetype": "text/x-python",
   "name": "python",
   "nbconvert_exporter": "python",
   "pygments_lexer": "ipython3",
   "version": "3.7.4"
  }
 },
 "nbformat": 4,
 "nbformat_minor": 2
}
