{
 "cells": [
  {
   "cell_type": "code",
   "execution_count": 1,
   "metadata": {},
   "outputs": [],
   "source": [
    "# Import the liberaries\n",
    "import numpy as np\n",
    "import matplotlib.image as mp\n",
    "import matplotlib.pyplot as plt"
   ]
  },
  {
   "cell_type": "code",
   "execution_count": 13,
   "metadata": {},
   "outputs": [],
   "source": [
    "def align_2dof(input,reference):\n",
    "    \n",
    "    # Find the height, width of the input image\n",
    "    input_height = input.shape[0]\n",
    "    input_width = input.shape[1]\n",
    "    \n",
    "    # Find the height, width of the reference image\n",
    "    reference_height = reference.shape[0]\n",
    "    reference_width = reference.shape[1]\n",
    "    \n",
    "    # Find the first pixel in the input image which is not 0\n",
    "    flag = False\n",
    "    for i in range(input_height):\n",
    "        for j in range(input_width):\n",
    "            if input[j][i] != 0:\n",
    "                x = j\n",
    "                y = i\n",
    "                flag = True\n",
    "                break\n",
    "        if flag:\n",
    "            break\n",
    "    \n",
    "    # Find the first pixel in the reference image which is not 0\n",
    "    flag = False\n",
    "    for i in range(reference_height):\n",
    "        for j in range(reference_width):\n",
    "            if reference[j][i] != 0:\n",
    "                u = j\n",
    "                v = i\n",
    "                flag = True\n",
    "                break\n",
    "        if flag:\n",
    "            break\n",
    "    \n",
    "    # Calculate the T value in the translation matrix\n",
    "    Tx = u - x\n",
    "    Ty = v - y\n",
    "    \n",
    "    # Generate the translation matrix\n",
    "    matrix = np.array([[1, 0, Tx], [0, 1, Ty], [0, 0, 1]])\n",
    "    \n",
    "    return(matrix)\n",
    "    \n",
    "    \n",
    "    "
   ]
  },
  {
   "cell_type": "code",
   "execution_count": 14,
   "metadata": {},
   "outputs": [],
   "source": [
    "def warping_affine(Sx, Rx, Tx, Ry, Sy, Ty, x, y, z, Image):\n",
    "    \n",
    "    # Find the height, width of Image_1\n",
    "    height = Image.shape[0]\n",
    "    width = Image.shape[1]\n",
    "    \n",
    "    # Generate a new height, width of the output image\n",
    "    new_height = round(abs(height*(3**0.5)/2) + abs(width*0.5)) + 1\n",
    "    new_width = round(abs(width*(3**0.5)/2) + abs(height*0.5)) + 1\n",
    "    \n",
    "    # Generate an array with the new height, width of the output image\n",
    "    output = np.zeros((new_height, new_width))\n",
    "    \n",
    "    # Find the coordinate of Image_1\n",
    "    original_centre_height = round(((height + 1) / 2) - 1) \n",
    "    original_centre_width = round(((width + 1) / 2) - 1)\n",
    "    \n",
    "    # Calculate the new coordinate of the output image\n",
    "    new_centre_height = round(((new_height + 1) / 2 ) - 1)  \n",
    "    new_centre_width = round(((new_width + 1) / 2) - 1)\n",
    "    \n",
    "    # Calculate the output\n",
    "    for i in range(height):\n",
    "        for j in range(width):\n",
    "            #coordinates of pixel with respect to the centre of original image\n",
    "            y = height - 1 - i - original_centre_height                   \n",
    "            x = width - 1 - j - original_centre_width                      \n",
    "\n",
    "            #coordinate of pixel with respect to the rotated image\n",
    "            new_x = round(x*Sx + y*Rx + Tx)\n",
    "            new_y = round(x*Ry + y*Sy + Ty)\n",
    "\n",
    "            '''since image will be rotated the centre will change too, \n",
    "               so to adust to that we will need to change new_x and new_y with respect to the new centre'''\n",
    "            new_x = new_centre_width - new_x\n",
    "            new_y= new_centre_height - new_y\n",
    "\n",
    "\n",
    "            # Adding if check to prevent any errors in the processing\n",
    "            if 0 <= new_x < new_width and 0 <= new_y < new_height and new_x>=0 and new_y>=0:\n",
    "                output[new_y][new_x]=img1[i][j]\n",
    "    \n",
    "    return output"
   ]
  },
  {
   "cell_type": "code",
   "execution_count": 16,
   "metadata": {},
   "outputs": [
    {
     "name": "stdout",
     "output_type": "stream",
     "text": [
      "[[  1   0 148]\n",
      " [  0   1 144]\n",
      " [  0   0   1]]\n"
     ]
    },
    {
     "data": {
      "image/png": "[encoded data removed]",
      "text/plain": [
       "<Figure size 432x288 with 2 Axes>"
      ]
     },
     "metadata": {
      "needs_background": "light"
     },
     "output_type": "display_data"
    }
   ],
   "source": [
    "if __name__ == '__main__':\n",
    "    \n",
    "    # Read the images\n",
    "    img1 = mp.imread('img1.jpg')\n",
    "    img2 = mp.imread('img2.jpg')\n",
    "    \n",
    "    # Print the translation matrix\n",
    "    print(align_2dof(img1,img2))\n",
    "    \n",
    "    # Plot the original image\n",
    "    original_img = warping_affine(1, 0, 0, 0, 1, 0, 0, 0, 1, img1)\n",
    "    plt.subplot(2,1,1), plt.imshow(original_img)\n",
    "    plt.title('Original Image')\n",
    "    \n",
    "    # Plot the aligned with the translation matrix\n",
    "    translation_img = warping_affine(1, 0, -1 * align_2dof(img1,img2)[0][2], 0, 1, -1 * align_2dof(img1,img2)[1][2], 0, 0, 1, img1)\n",
    "    plt.subplot(2,1,2), plt.imshow(translation_img)\n",
    "    plt.title('Aligned Image')"
   ]
  },
  {
   "cell_type": "code",
   "execution_count": null,
   "metadata": {},
   "outputs": [],
   "source": []
  }
 ],
 "metadata": {
  "kernelspec": {
   "display_name": "Python 3",
   "language": "python",
   "name": "python3"
  },
  "language_info": {
   "codemirror_mode": {
    "name": "ipython",
    "version": 3
   },
   "file_extension": ".py",
   "mimetype": "text/x-python",
   "name": "python",
   "nbconvert_exporter": "python",
   "pygments_lexer": "ipython3",
   "version": "3.7.4"
  }
 },
 "nbformat": 4,
 "nbformat_minor": 2
}
